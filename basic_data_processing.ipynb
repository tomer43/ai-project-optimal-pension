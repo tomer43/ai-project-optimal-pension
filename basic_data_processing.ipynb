{
 "cells": [
  {
   "cell_type": "code",
   "execution_count": 30,
   "metadata": {},
   "outputs": [],
   "source": [
    "import pandas as pd\n",
    "import numpy as np\n",
    "import seaborn as sns"
   ]
  },
  {
   "cell_type": "code",
   "execution_count": 31,
   "metadata": {},
   "outputs": [],
   "source": [
    "df = pd.read_csv(\"Mutual Funds.csv\", dtype={'fund_treynor_ratio_3years': object, 'fund_treynor_ratio_10years': object})"
   ]
  },
  {
   "cell_type": "markdown",
   "metadata": {},
   "source": [
    "### Drop Funds with Missing Values and Unnecessary Columns "
   ]
  },
  {
   "cell_type": "code",
   "execution_count": 32,
   "metadata": {},
   "outputs": [],
   "source": [
    "df.dropna(inplace=True, axis=0, subset=[f\"fund_return_{year}\" for year in range(2010, 2020)])\n",
    "df.dropna(inplace=True, axis=0, subset=[f\"fund_return_2020_q{i}\" for i in range(1, 4)])\n",
    "df.dropna(inplace=True, axis=0, subset=[\"size_type\"])"
   ]
  },
  {
   "cell_type": "code",
   "execution_count": 33,
   "metadata": {},
   "outputs": [],
   "source": [
    "# a list of unnecessary columns to drop\n",
    "\n",
    "list_cols_to_drop = [\n",
    " 'fund_extended_name',\n",
    " 'investment_type',\n",
    " 'investment_strategy',\n",
    " 'size_type',\n",
    " 'currency',\n",
    " 'top10_holdings',\n",
    " 'bond_maturity',\n",
    " 'bond_duration',\n",
    " 'credit_us_government',\n",
    " 'credit_aaa',\n",
    " 'credit_aa',\n",
    " 'credit_a',\n",
    " 'credit_bbb',\n",
    " 'credit_bb',\n",
    " 'credit_b',\n",
    " 'credit_below_b',\n",
    " 'credit_other_ratings',\n",
    " 'fund_yield',\n",
    " 'quarters_up',\n",
    " 'quarters_down',\n",
    " 'fund_alpha_3years',\n",
    " 'category_alpha_3years',\n",
    " 'fund_alpha_5years',\n",
    " 'category_alpha_5years',\n",
    " 'fund_alpha_10years',\n",
    " 'category_alpha_10years',\n",
    " 'fund_beta_3years',\n",
    " 'category_beta_3years',\n",
    " 'fund_beta_5years',\n",
    " 'category_beta_5years',\n",
    " 'fund_beta_10years',\n",
    " 'category_beta_10years',\n",
    " 'fund_mean_annual_return_3years',\n",
    " 'category_mean_annual_return_3years',\n",
    " 'fund_mean_annual_return_5years',\n",
    " 'category_mean_annual_return_5years',\n",
    " 'fund_mean_annual_return_10years',\n",
    " 'category_mean_annual_return_10years',\n",
    " 'fund_r_squared_3years',\n",
    " 'category_r_squared_3years',\n",
    " 'fund_r_squared_5years',\n",
    " 'category_r_squared_5years',\n",
    " 'fund_r_squared_10years',\n",
    " 'category_r_squared_10years',\n",
    " 'fund_standard_deviation_3years',\n",
    " 'category_standard_deviation_3years',\n",
    " 'fund_standard_deviation_5years',\n",
    " 'category_standard_deviation_5years',\n",
    " 'fund_standard_deviation_10years',\n",
    " 'category_standard_deviation_10years',\n",
    " 'fund_sharpe_ratio_3years',\n",
    " 'category_sharpe_ratio_3years',\n",
    " 'fund_sharpe_ratio_5years',\n",
    " 'category_sharpe_ratio_5years',\n",
    " 'fund_sharpe_ratio_10years',\n",
    " 'category_sharpe_ratio_10years',\n",
    " 'fund_treynor_ratio_3years',\n",
    " 'category_treynor_ratio_3years',\n",
    " 'fund_treynor_ratio_5years',\n",
    " 'category_treynor_ratio_5years',\n",
    " 'fund_treynor_ratio_10years',\n",
    " 'category_treynor_ratio_10years',\n",
    " 'years_up',\n",
    " 'years_down',\n",
    " 'fund_return_ytd',\n",
    " 'category_return_ytd',\n",
    " 'fund_return_1month',\n",
    " 'category_return_1month',\n",
    " 'fund_return_3months',\n",
    " 'category_return_3months',\n",
    " 'fund_return_1year',\n",
    " 'category_return_1year',\n",
    " 'fund_return_3years',\n",
    " 'category_return_3years',\n",
    " 'fund_return_5years',\n",
    " 'category_return_5years',\n",
    " 'fund_return_10years',\n",
    " 'category_return_10years',\n",
    "]\n",
    "\n",
    "list_cols_to_drop = list_cols_to_drop + [f\"fund_return_{year}\" for year in range(2010, 2020)]\n",
    "\n",
    "df.drop(list_cols_to_drop, axis=1, inplace=True)"
   ]
  },
  {
   "cell_type": "code",
   "execution_count": 34,
   "metadata": {},
   "outputs": [],
   "source": [
    "# change full inception date to include only a year\n",
    "df[\"inception_date\"] = df[\"inception_date\"].astype(\"datetime64\").dt.year"
   ]
  },
  {
   "cell_type": "code",
   "execution_count": 35,
   "metadata": {},
   "outputs": [],
   "source": [
    "# Remove cols with nans\n",
    "df.dropna(how='any', axis=0, inplace=True)"
   ]
  },
  {
   "cell_type": "markdown",
   "metadata": {},
   "source": [
    "### Rearrange Dataframe Format"
   ]
  },
  {
   "cell_type": "code",
   "execution_count": 36,
   "metadata": {},
   "outputs": [],
   "source": [
    "# rearrange dataframe to better format with multiindex (fund name, timestamp)\n",
    "\n",
    "fund_returns_cols_list = [f\"fund_return_{year}_q{i}\" for year in range(2010, 2021) for i in range(1, 5)]\n",
    "fund_returns_cols_list.remove(\"fund_return_2020_q4\")  # no data on q4 in 2020\n",
    "mapping_dates = pd.Series(data=pd.date_range(start=\"2010-1-1\", end=\"2020-12-1\", freq=\"Q\"), index=fund_returns_cols_list)\n",
    "df[\"ts\"] = [mapping_dates.values for _ in range(df.shape[0])]\n",
    "df = df.explode('ts')\n",
    "\n",
    "# assign a new cols, \"funds_returns\", to have fund return for each specific time\n",
    "df[\"fund_returns\"] = np.nan\n",
    "for item in fund_returns_cols_list:\n",
    "    df.loc[df[\"ts\"]==mapping_dates[item], \"fund_returns\"] = df.loc[df[\"ts\"]==mapping_dates[item], item]\n",
    "\n",
    "df.drop(fund_returns_cols_list, axis=1, inplace=True)\n",
    "df.set_index([\"fund_symbol\", \"ts\"], inplace=True)"
   ]
  },
  {
   "cell_type": "code",
   "execution_count": 37,
   "metadata": {},
   "outputs": [],
   "source": [
    "# transform \"category_return_x\" columns into one single column.\n",
    "# Divide it by 4 to be reasonable amount on quarter\n",
    "# currently still nans on 2020, and for every year values are the same\n",
    "\n",
    "df[\"category_returns\"] = np.nan\n",
    "for single_date in mapping_dates.values:\n",
    "    curr_year = pd.to_datetime(single_date).year\n",
    "    if curr_year != 2020:\n",
    "        df.loc[df.index.get_level_values(\"ts\")==single_date, \"category_returns\"] = df.loc[df.index.get_level_values(\"ts\")==single_date, f\"category_return_{curr_year}\"]\n",
    "\n",
    "df.drop([f\"category_return_{year}\" for year in range(2010, 2020)], axis=1, inplace=True)\n",
    "df[\"category_returns\"] = df[\"category_returns\"] / 4"
   ]
  },
  {
   "cell_type": "code",
   "execution_count": 38,
   "metadata": {},
   "outputs": [],
   "source": [
    "# imputation of missing values for category_returns in 2020.\n",
    "# for each category, calculate average return for all funds in the same\n",
    "# category in same timestamp, and use that value.\n",
    "\n",
    "for cat in df[\"category\"].unique():\n",
    "    for ts in mapping_dates[mapping_dates.dt.year == 2020].values:\n",
    "        category_in_ts_filter = (df[\"category\"] == cat) & (df.index.get_level_values(level=1)==ts)\n",
    "        avg_return_ts = df.loc[category_in_ts_filter, \"fund_returns\"].mean()\n",
    "        df.loc[category_in_ts_filter, \"category_returns\"] = avg_return_ts"
   ]
  },
  {
   "cell_type": "markdown",
   "metadata": {},
   "source": [
    "### Add Noise to Data"
   ]
  },
  {
   "cell_type": "code",
   "execution_count": 39,
   "metadata": {},
   "outputs": [],
   "source": [
    "# Add noise to columns\n",
    "\n",
    "def add_noise_to_col(series, noise_mean, noise_var):\n",
    "    noise = np.random.normal(noise_mean, noise_var, series.shape[0])\n",
    "    series_multipled = series.values * noise\n",
    "    return series + series_multipled"
   ]
  },
  {
   "cell_type": "code",
   "execution_count": 40,
   "metadata": {},
   "outputs": [],
   "source": [
    "# Take care of assests cols: add noise and then normalize\n",
    "\n",
    "asset_cols = [\"asset_cash\", \"asset_stocks\", \"asset_bonds\", \"asset_others\", \"asset_preferred\", \"asset_convertable\"]\n",
    "for col in asset_cols:\n",
    "    df[col] = add_noise_to_col(df[col], noise_mean=0, noise_var=0.05)\n",
    "\n",
    "df[\"sum_asset\"] = df[asset_cols].sum(axis=1)\n",
    "\n",
    "for asset_col in asset_cols:\n",
    "    df[asset_col] = df[asset_col] / df[\"sum_asset\"]\n",
    "    \n",
    "df.drop([\"sum_asset\"], axis=1, inplace=True)"
   ]
  },
  {
   "cell_type": "code",
   "execution_count": 41,
   "metadata": {},
   "outputs": [],
   "source": [
    "# Deal with sectors cols: create a \"sector_others\" columns to be the difference between the sum of the other sectors\n",
    "# (which is not always 100) and 100. Normalize to 0 and 1.\n",
    "# Drop funds without full information\n",
    "\n",
    "sector_cols_list = [\"sector_basic_materials\", \"sector_consumer_cyclical\", \"sector_financial_services\", \"sector_real_estate\", \"sector_consumer_defensive\", \"sector_healthcare\", \"sector_utilities\", \"sector_communication_services\", \"sector_energy\", \"sector_technology\", \"sector_industrials\"]\n",
    "for col in sector_cols_list:\n",
    "    df[col] = add_noise_to_col(df[col], noise_mean=0, noise_var=0.05)\n",
    "\n",
    "df[\"sum_sector\"] = df[sector_cols_list].sum(axis=1)\n",
    "\n",
    "for sector_col in sector_cols_list:\n",
    "    df[sector_col] = df[sector_col] / df[\"sum_sector\"]\n",
    "    \n",
    "df[\"sector_others\"] = 1 - df[sector_cols_list].sum(axis=1)\n",
    "\n",
    "df.drop([\"sum_sector\"], axis=1, inplace=True)"
   ]
  },
  {
   "cell_type": "code",
   "execution_count": 42,
   "metadata": {},
   "outputs": [],
   "source": [
    "# some fund_net_annual_expense_ratio is extremely large. Limit that to 3% yearly.\n",
    "# since it's given yearly and we work in quarters, divde it by 4\n",
    "\n",
    "df[df[\"fund_net_annual_expense_ratio\"] > 3] = 3\n",
    "df[\"fund_net_annual_expense_ratio\"] = df[\"fund_net_annual_expense_ratio\"] / 4\n",
    "df[df[\"category_net_annual_expense_ratio\"] > 3] = 3\n",
    "df[\"category_net_annual_expense_ratio\"] = df[\"category_net_annual_expense_ratio\"] / 4"
   ]
  },
  {
   "cell_type": "code",
   "execution_count": 43,
   "metadata": {},
   "outputs": [],
   "source": [
    "# Add noise to more columns\n",
    "\n",
    "df['net_asset_value'] = add_noise_to_col(df['net_asset_value'], noise_mean=0, noise_var=0.15)\n",
    "df['category_returns'] = add_noise_to_col(df['category_returns'], noise_mean=0, noise_var=0.03)\n",
    "df['category_net_annual_expense_ratio'] = add_noise_to_col(df['category_net_annual_expense_ratio'], noise_mean=0, noise_var=0.05)\n",
    "df['fund_net_annual_expense_ratio'] = add_noise_to_col(df['fund_net_annual_expense_ratio'], noise_mean=0, noise_var=0.05)\n",
    "df['price_earnings_ratio'] = add_noise_to_col(df['price_earnings_ratio'], noise_mean=0, noise_var=0.15)\n",
    "df['price_book_ratio'] = add_noise_to_col(df['price_book_ratio'], noise_mean=0, noise_var=0.15)\n",
    "df['price_sales_ratio'] = add_noise_to_col(df['price_sales_ratio'], noise_mean=0, noise_var=0.15)\n",
    "df['price_cashflow_ratio'] = add_noise_to_col(df['price_cashflow_ratio'], noise_mean=0, noise_var=0.15)\n",
    "df['median_market_cap'] = add_noise_to_col(df['median_market_cap'], noise_mean=0, noise_var=0.15)"
   ]
  },
  {
   "cell_type": "markdown",
   "metadata": {},
   "source": [
    "### Add New Columns: Statistics of Past Data"
   ]
  },
  {
   "cell_type": "code",
   "execution_count": 44,
   "metadata": {},
   "outputs": [],
   "source": [
    "# Calculate average expense ratio over period of time\n",
    "\n",
    "def calc_average_fund_net_quarter_expense(fund, quarters):\n",
    "    fund_res = fund.rolling(window=quarters).mean()\n",
    "    return fund_res.shift(1, axis=0)"
   ]
  },
  {
   "cell_type": "code",
   "execution_count": 45,
   "metadata": {},
   "outputs": [],
   "source": [
    "df[\"fund_quarterly_expense_ratio_previous_quarter\"] = df[\"fund_net_annual_expense_ratio\"].groupby('fund_symbol').apply(lambda x: calc_average_fund_net_quarter_expense(x, 1))\n",
    "df[\"fund_quarterly_expense_ratio_average_previous_year\"] = df[\"fund_net_annual_expense_ratio\"].groupby('fund_symbol').apply(lambda x: calc_average_fund_net_quarter_expense(x, 4))\n",
    "df[\"fund_quarterly_expense_ratio_average_previous_two_years\"] = df[\"fund_net_annual_expense_ratio\"].groupby('fund_symbol').apply(lambda x: calc_average_fund_net_quarter_expense(x, 8))"
   ]
  },
  {
   "cell_type": "code",
   "execution_count": 46,
   "metadata": {},
   "outputs": [],
   "source": [
    "df[\"category_quarterly_expense_ratio_previous_quarter\"] = df[\"category_net_annual_expense_ratio\"].groupby('fund_symbol').apply(lambda x: calc_average_fund_net_quarter_expense(x, 1))\n",
    "df[\"category_quarterly_expense_ratio_average_previous_year\"] = df[\"category_net_annual_expense_ratio\"].groupby('fund_symbol').apply(lambda x: calc_average_fund_net_quarter_expense(x, 4))\n",
    "df[\"category_quarterly_expense_ratio_average_previous_two_years\"] = df[\"category_net_annual_expense_ratio\"].groupby('fund_symbol').apply(lambda x: calc_average_fund_net_quarter_expense(x, 8))"
   ]
  },
  {
   "cell_type": "code",
   "execution_count": 47,
   "metadata": {},
   "outputs": [],
   "source": [
    "# Calculate returns over period of time\n",
    "\n",
    "def calc_last_quarters_returns(fund, quarters):\n",
    "    fund_nominal = (fund / 100) + 1\n",
    "    fund_nominal_res = fund_nominal.rolling(window=quarters).apply(np.prod, raw=True)\n",
    "    fund_res = (fund_nominal_res - 1)*100\n",
    "    return fund_res.shift(1, axis=0)"
   ]
  },
  {
   "cell_type": "code",
   "execution_count": 48,
   "metadata": {},
   "outputs": [],
   "source": [
    "df[\"fund_last_quarter_returns\"] = df[\"fund_returns\"].groupby('fund_symbol').apply(lambda x: calc_last_quarters_returns(x, 1))\n",
    "df[\"fund_total_last_year_returns\"] = df[\"fund_returns\"].groupby('fund_symbol').apply(lambda x: calc_last_quarters_returns(x, 4))\n",
    "df[\"fund_total_last_3_years_returns\"] = df[\"fund_returns\"].groupby('fund_symbol').apply(lambda x: calc_last_quarters_returns(x, 12))\n",
    "df[\"fund_total_last_5_years_returns\"] = df[\"fund_returns\"].groupby('fund_symbol').apply(lambda x: calc_last_quarters_returns(x, 20))"
   ]
  },
  {
   "cell_type": "code",
   "execution_count": 49,
   "metadata": {},
   "outputs": [],
   "source": [
    "df[\"category_last_quarter_returns\"] = df[\"category_returns\"].groupby('fund_symbol').apply(lambda x: calc_last_quarters_returns(x, 1))\n",
    "df[\"category_total_last_year_returns\"] = df[\"category_returns\"].groupby('fund_symbol').apply(lambda x: calc_last_quarters_returns(x, 4))\n",
    "df[\"category_total_last_3_years_returns\"] = df[\"category_returns\"].groupby('fund_symbol').apply(lambda x: calc_last_quarters_returns(x, 12))\n",
    "df[\"category_total_last_5_years_returns\"] = df[\"category_returns\"].groupby('fund_symbol').apply(lambda x: calc_last_quarters_returns(x, 20))"
   ]
  },
  {
   "cell_type": "markdown",
   "metadata": {},
   "source": [
    "### Refactor Columns Names and Export to csv"
   ]
  },
  {
   "cell_type": "code",
   "execution_count": 53,
   "metadata": {},
   "outputs": [],
   "source": [
    "df.rename(columns={\"rating\": \"general_rating\",\n",
    "                   \"fund_net_annual_expense_ratio\": \"fund_quarterly_expense_ratio\",\n",
    "                   \"category_net_annual_expense_ratio\": \"category_quarterly_expense_ratio\"}, inplace=True)"
   ]
  },
  {
   "cell_type": "code",
   "execution_count": 54,
   "metadata": {},
   "outputs": [
    {
     "data": {
      "text/plain": [
       "Index(['fund_family', 'inception_date', 'category', 'general_rating',\n",
       "       'return_rating', 'risk_rating', 'fund_quarterly_expense_ratio',\n",
       "       'category_quarterly_expense_ratio', 'asset_cash', 'asset_stocks',\n",
       "       'asset_bonds', 'asset_others', 'asset_preferred', 'asset_convertable',\n",
       "       'price_earnings_ratio', 'price_book_ratio', 'price_sales_ratio',\n",
       "       'price_cashflow_ratio', 'median_market_cap', 'sector_basic_materials',\n",
       "       'sector_consumer_cyclical', 'sector_financial_services',\n",
       "       'sector_real_estate', 'sector_consumer_defensive', 'sector_healthcare',\n",
       "       'sector_utilities', 'sector_communication_services', 'sector_energy',\n",
       "       'sector_industrials', 'sector_technology', 'net_asset_value',\n",
       "       'fund_returns', 'category_returns', 'sector_others',\n",
       "       'fund_quarterly_expense_ratio_previous_quarter',\n",
       "       'fund_quarterly_expense_ratio_average_previous_year',\n",
       "       'fund_quarterly_expense_ratio_average_previous_two_years',\n",
       "       'category_quarterly_expense_ratio_previous_quarter',\n",
       "       'category_quarterly_expense_ratio_average_previous_year',\n",
       "       'category_quarterly_expense_ratio_average_previous_two_years',\n",
       "       'fund_last_quarter_returns', 'fund_total_last_year_returns',\n",
       "       'fund_total_last_3_years_returns', 'fund_total_last_5_years_returns',\n",
       "       'category_last_quarter_returns', 'category_total_last_year_returns',\n",
       "       'category_total_last_3_years_returns',\n",
       "       'category_total_last_5_years_returns'],\n",
       "      dtype='object')"
      ]
     },
     "execution_count": 54,
     "metadata": {},
     "output_type": "execute_result"
    }
   ],
   "source": [
    "df.columns"
   ]
  },
  {
   "cell_type": "code",
   "execution_count": 57,
   "metadata": {},
   "outputs": [
    {
     "name": "stdout",
     "output_type": "stream",
     "text": [
      "48\n",
      "48\n"
     ]
    }
   ],
   "source": [
    "# list all cols and rearrange them in a list by desired order\n",
    "\n",
    "fund_returns_cols = ['fund_returns', 'fund_last_quarter_returns', 'fund_total_last_year_returns', 'fund_total_last_3_years_returns', 'fund_total_last_5_years_returns']\n",
    "category_returns_cols = ['category_returns', 'category_last_quarter_returns', 'category_total_last_year_returns', 'category_total_last_3_years_returns', 'category_total_last_5_years_returns']\n",
    "fund_expense_ratio_cols = ['fund_quarterly_expense_ratio', 'fund_quarterly_expense_ratio_previous_quarter', 'fund_quarterly_expense_ratio_average_previous_year', 'fund_quarterly_expense_ratio_average_previous_two_years']\n",
    "category_expense_ratio_cols = ['category_quarterly_expense_ratio', 'category_quarterly_expense_ratio_previous_quarter', 'category_quarterly_expense_ratio_average_previous_year', 'category_quarterly_expense_ratio_average_previous_two_years']\n",
    "general_fund_data_cols = ['fund_family', 'inception_date', 'category', 'general_rating', 'return_rating', 'risk_rating', 'net_asset_value', 'median_market_cap']\n",
    "price_ratios_cols = ['price_earnings_ratio', 'price_book_ratio', 'price_sales_ratio', 'price_cashflow_ratio']\n",
    "sector_cols_list = list(set(sector_cols_list + ['sector_others'])) \n",
    "# asset_cols\n",
    "\n",
    "new_cols_arrangement = general_fund_data_cols + fund_returns_cols + category_returns_cols + fund_expense_ratio_cols + category_expense_ratio_cols  + sector_cols_list + asset_cols + price_ratios_cols"
   ]
  },
  {
   "cell_type": "code",
   "execution_count": 59,
   "metadata": {},
   "outputs": [
    {
     "name": "stdout",
     "output_type": "stream",
     "text": [
      "48\n",
      "                       fund_family  inception_date          category  \\\n",
      "fund_symbol ts                                                         \n",
      "AAAAX       2010-03-31         DWS            2007  World Allocation   \n",
      "            2010-06-30         DWS            2007  World Allocation   \n",
      "            2010-09-30         DWS            2007  World Allocation   \n",
      "            2010-12-31         DWS            2007  World Allocation   \n",
      "            2011-03-31         DWS            2007  World Allocation   \n",
      "...                            ...             ...               ...   \n",
      "YAFFX       2019-09-30   AMG Funds            1997       Large Value   \n",
      "            2019-12-31   AMG Funds            1997       Large Value   \n",
      "            2020-03-31   AMG Funds            1997       Large Value   \n",
      "            2020-06-30   AMG Funds            1997       Large Value   \n",
      "            2020-09-30   AMG Funds            1997       Large Value   \n",
      "\n",
      "                        general_rating  return_rating  risk_rating  \\\n",
      "fund_symbol ts                                                       \n",
      "AAAAX       2010-03-31             3.0            3.0          3.0   \n",
      "            2010-06-30             3.0            3.0          3.0   \n",
      "            2010-09-30             3.0            3.0          3.0   \n",
      "            2010-12-31             3.0            3.0          3.0   \n",
      "            2011-03-31             3.0            3.0          3.0   \n",
      "...                                ...            ...          ...   \n",
      "YAFFX       2019-09-30             5.0            5.0          1.0   \n",
      "            2019-12-31             5.0            5.0          1.0   \n",
      "            2020-03-31             5.0            5.0          1.0   \n",
      "            2020-06-30             5.0            5.0          1.0   \n",
      "            2020-09-30             5.0            5.0          1.0   \n",
      "\n",
      "                        net_asset_value  median_market_cap  fund_returns  \\\n",
      "fund_symbol ts                                                             \n",
      "AAAAX       2010-03-31     6.639130e+08       28775.696658          2.23   \n",
      "            2010-06-30     6.861682e+08       20964.919982         -2.53   \n",
      "            2010-09-30     5.854065e+08       17266.334306          8.55   \n",
      "            2010-12-31     6.221577e+08       20144.686398          3.73   \n",
      "            2011-03-31     7.547536e+08       21330.831412          2.44   \n",
      "...                                 ...                ...           ...   \n",
      "YAFFX       2019-09-30     2.951593e+09       25081.881839         -0.65   \n",
      "            2019-12-31     3.076226e+09       33219.725234          6.92   \n",
      "            2020-03-31     2.344329e+09       29103.354405        -21.04   \n",
      "            2020-06-30     2.240592e+09       41589.622607         16.03   \n",
      "            2020-09-30     2.932317e+09       24827.011438          5.62   \n",
      "\n",
      "                        fund_last_quarter_returns  ...  asset_cash  \\\n",
      "fund_symbol ts                                     ...               \n",
      "AAAAX       2010-03-31                        NaN  ...    0.016983   \n",
      "            2010-06-30                       2.23  ...    0.019158   \n",
      "            2010-09-30                      -2.53  ...    0.018811   \n",
      "            2010-12-31                       8.55  ...    0.019245   \n",
      "            2011-03-31                       3.73  ...    0.018002   \n",
      "...                                           ...  ...         ...   \n",
      "YAFFX       2019-09-30                       3.16  ...    0.198511   \n",
      "            2019-12-31                      -0.65  ...    0.188042   \n",
      "            2020-03-31                       6.92  ...    0.181067   \n",
      "            2020-06-30                     -21.04  ...    0.174037   \n",
      "            2020-09-30                      16.03  ...    0.176212   \n",
      "\n",
      "                        asset_stocks  asset_bonds  asset_others  \\\n",
      "fund_symbol ts                                                    \n",
      "AAAAX       2010-03-31      0.646296     0.147517      0.189204   \n",
      "            2010-06-30      0.645087     0.142106      0.193649   \n",
      "            2010-09-30      0.625944     0.162820      0.192426   \n",
      "            2010-12-31      0.635694     0.162845      0.182217   \n",
      "            2011-03-31      0.652767     0.141669      0.187562   \n",
      "...                              ...          ...           ...   \n",
      "YAFFX       2019-09-30      0.770865     0.030624      0.000000   \n",
      "            2019-12-31      0.783822     0.028136      0.000000   \n",
      "            2020-03-31      0.794282     0.024651      0.000000   \n",
      "            2020-06-30      0.798478     0.027485      0.000000   \n",
      "            2020-09-30      0.795074     0.028713      0.000000   \n",
      "\n",
      "                        asset_preferred  asset_convertable  \\\n",
      "fund_symbol ts                                               \n",
      "AAAAX       2010-03-31              0.0                0.0   \n",
      "            2010-06-30              0.0                0.0   \n",
      "            2010-09-30              0.0                0.0   \n",
      "            2010-12-31              0.0                0.0   \n",
      "            2011-03-31              0.0                0.0   \n",
      "...                                 ...                ...   \n",
      "YAFFX       2019-09-30              0.0                0.0   \n",
      "            2019-12-31              0.0                0.0   \n",
      "            2020-03-31              0.0                0.0   \n",
      "            2020-06-30              0.0                0.0   \n",
      "            2020-09-30              0.0                0.0   \n",
      "\n",
      "                        price_earnings_ratio  price_book_ratio  \\\n",
      "fund_symbol ts                                                   \n",
      "AAAAX       2010-03-31             19.165738          2.084897   \n",
      "            2010-06-30             19.603837          1.445448   \n",
      "            2010-09-30             20.308951          1.845718   \n",
      "            2010-12-31             19.286569          1.902121   \n",
      "            2011-03-31             16.660365          1.830497   \n",
      "...                                      ...               ...   \n",
      "YAFFX       2019-09-30             19.473411          1.315755   \n",
      "            2019-12-31             20.004030          1.486891   \n",
      "            2020-03-31             14.497085          1.788343   \n",
      "            2020-06-30             16.479328          1.430311   \n",
      "            2020-09-30             16.119348          1.116018   \n",
      "\n",
      "                        price_sales_ratio  price_cashflow_ratio  \n",
      "fund_symbol ts                                                   \n",
      "AAAAX       2010-03-31           1.994608              8.554677  \n",
      "            2010-06-30           2.389283             10.378006  \n",
      "            2010-09-30           1.863564             11.013439  \n",
      "            2010-12-31           1.862229             12.379808  \n",
      "            2011-03-31           2.372625             12.167048  \n",
      "...                                   ...                   ...  \n",
      "YAFFX       2019-09-30           0.768459              7.595814  \n",
      "            2019-12-31           0.588915              8.621748  \n",
      "            2020-03-31           0.558718              4.895912  \n",
      "            2020-06-30           0.777059              6.675034  \n",
      "            2020-09-30           0.667121              5.595809  \n",
      "\n",
      "[344473 rows x 48 columns]\n"
     ]
    }
   ],
   "source": [
    "df = df[new_cols_arrangement]"
   ]
  },
  {
   "cell_type": "code",
   "execution_count": 29,
   "metadata": {},
   "outputs": [],
   "source": [
    "df.to_csv(\"tmp_res_with_rolling_almost_final.csv\")"
   ]
  },
  {
   "cell_type": "markdown",
   "metadata": {},
   "source": [
    "### Graphs of Different Normal Distributions for Noise"
   ]
  },
  {
   "cell_type": "code",
   "execution_count": 5,
   "metadata": {},
   "outputs": [
    {
     "data": {
      "text/plain": [
       "Text(0.5, 1.0, '~N(0, 0.05)')"
      ]
     },
     "execution_count": 5,
     "metadata": {},
     "output_type": "execute_result"
    },
    {
     "data": {
      "image/png": "[encoded data removed]",
      "text/plain": [
       "<Figure size 432x288 with 1 Axes>"
      ]
     },
     "metadata": {
      "needs_background": "light"
     },
     "output_type": "display_data"
    }
   ],
   "source": [
    "sns.histplot(data=np.random.normal(0, 0.05, 8000*39)).set_title(\"~N(0, 0.05)\")"
   ]
  },
  {
   "cell_type": "code",
   "execution_count": 6,
   "metadata": {},
   "outputs": [
    {
     "data": {
      "text/plain": [
       "Text(0.5, 1.0, '~N(0, 0.1)')"
      ]
     },
     "execution_count": 6,
     "metadata": {},
     "output_type": "execute_result"
    },
    {
     "data": {
      "image/png": "[encoded data removed]",
      "text/plain": [
       "<Figure size 432x288 with 1 Axes>"
      ]
     },
     "metadata": {
      "needs_background": "light"
     },
     "output_type": "display_data"
    }
   ],
   "source": [
    "sns.histplot(data=np.random.normal(0, 0.1, 8000*39)).set_title(\"~N(0, 0.1)\")"
   ]
  },
  {
   "cell_type": "code",
   "execution_count": 7,
   "metadata": {},
   "outputs": [
    {
     "data": {
      "text/plain": [
       "Text(0.5, 1.0, '~N(0, 0.15)')"
      ]
     },
     "execution_count": 7,
     "metadata": {},
     "output_type": "execute_result"
    },
    {
     "data": {
      "image/png": "[encoded data removed]",
      "text/plain": [
       "<Figure size 432x288 with 1 Axes>"
      ]
     },
     "metadata": {
      "needs_background": "light"
     },
     "output_type": "display_data"
    }
   ],
   "source": [
    "sns.histplot(data=np.random.normal(0, 0.15, 8000*39)).set_title(\"~N(0, 0.15)\")"
   ]
  },
  {
   "cell_type": "code",
   "execution_count": null,
   "metadata": {},
   "outputs": [],
   "source": [
    "def calc_last_quarters_returns_manual(fund, quarters):\n",
    "    \"\"\"\n",
    "     this function calculates the last quarters returns. It iterates through all \n",
    "     rows. For each row it calculates the starting date and the ending date\n",
    "     (+- 1 day to avoid minor numerical representation). Then it iterates over\n",
    "     all rows between the following dates and uses acc variable to calculate return.\n",
    "     The result is a series with same index as fund and it acc returns as values.\n",
    "    \"\"\"\n",
    "    res_series = pd.Series(data=np.nan, index=fund.index)\n",
    "    for row in fund.iteritems():\n",
    "        end_time = row[0][1] + pd.Timedelta(days=1)\n",
    "        start_time = pd.to_datetime(end_time) - pd.Series(data=[quarters]).map(pd.offsets.QuarterEnd)[0]\n",
    "        start_time = max(mapping_dates.iloc[0], start_time) - pd.Timedelta(days=1)\n",
    "        acc = 1\n",
    "        for single_ts in fund.loc[(slice(row[0][0]), slice(start_time, end_time))].iteritems():\n",
    "            curr_val = single_ts[1]\n",
    "            acc = acc*(1 + (curr_val / 100))\n",
    "        res_series[row[0]] = round((acc - 1)*100, 2)\n",
    "\n",
    "    return res_series"
   ]
  }
 ],
 "metadata": {
  "kernelspec": {
   "display_name": "Python 3",
   "language": "python",
   "name": "python3"
  },
  "language_info": {
   "codemirror_mode": {
    "name": "ipython",
    "version": 3
   },
   "file_extension": ".py",
   "mimetype": "text/x-python",
   "name": "python",
   "nbconvert_exporter": "python",
   "pygments_lexer": "ipython3",
   "version": "3.7.6"
  }
 },
 "nbformat": 4,
 "nbformat_minor": 4
}
